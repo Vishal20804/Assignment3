{
 "cells": [
  {
   "cell_type": "code",
   "execution_count": 1,
   "id": "15870ada-2f33-469d-bc45-04171fb9e943",
   "metadata": {},
   "outputs": [
    {
     "name": "stdin",
     "output_type": "stream",
     "text": [
      "enter the number you ontain: 11111\n"
     ]
    },
    {
     "name": "stdout",
     "output_type": "stream",
     "text": [
      "Grade-A\n"
     ]
    }
   ],
   "source": [
    "#ans:1=\n",
    "a=int(input(\"enter the number you ontain:\"))\n",
    "if (a>=90):\n",
    "    print(\"Grade-A\")\n",
    "elif(80<=a<=90):\n",
    "    print(\"Grade-B\")\n",
    "elif(60<=a<=80):\n",
    "    print(\"Grade-C\")\n",
    "else:\n",
    "    print(\"Grade-D\")\n",
    "          "
   ]
  },
  {
   "cell_type": "code",
   "execution_count": 2,
   "id": "7ec98a83-089d-4fee-a51e-ecbba2eb8c4c",
   "metadata": {},
   "outputs": [
    {
     "name": "stdin",
     "output_type": "stream",
     "text": [
      "enter the cost price: 111\n"
     ]
    },
    {
     "name": "stdout",
     "output_type": "stream",
     "text": [
      "5.550000000000001\n"
     ]
    }
   ],
   "source": [
    "#ans:2=\n",
    "cost=int(input(\"enter the cost price:\"))\n",
    "if cost>100000:\n",
    "    road_tax=cost*0.15\n",
    "    print(road_tax)\n",
    "elif(100000<=cost<50000):\n",
    "    road_tax=cost*0.100\n",
    "    print(road_tax)\n",
    "else:\n",
    "    road_tax=cost*0.05\n",
    "    print(road_tax)"
   ]
  },
  {
   "cell_type": "code",
   "execution_count": 3,
   "id": "ec02488b-41ff-4d81-8ca3-dfd756521549",
   "metadata": {},
   "outputs": [
    {
     "name": "stdin",
     "output_type": "stream",
     "text": [
      "enter the city name: 1\n"
     ]
    },
    {
     "name": "stdout",
     "output_type": "stream",
     "text": [
      "jal Mahal\n"
     ]
    }
   ],
   "source": [
    "#ans:3=\n",
    "city=input(\"enter the city name:\")\n",
    "if city=='Delhi':\n",
    "    print(\"Red Fort\")\n",
    "elif city=='Agra':\n",
    "    print(\"Taj Mahal\")\n",
    "else:\n",
    "    print(\"jal Mahal\")"
   ]
  },
  {
   "cell_type": "code",
   "execution_count": null,
   "id": "93ea947a-3a77-4edf-ae68-381fc43b9f73",
   "metadata": {},
   "outputs": [],
   "source": [
    "#ans:5=\n",
    "Python while loop is used to run a block code until a certain condition is met. Here, A while loop evaluates the condition. If the condition evaluates to True , the code inside the while loop is executed.\n",
    "i = 1\n",
    "n = 5\n",
    "\n",
    "# while loop from i = 1 to 5\n",
    "while i <= n:\n",
    "    print(i)\n",
    "    i = i + 1"
   ]
  },
  {
   "cell_type": "code",
   "execution_count": null,
   "id": "13bb7f81-bb97-454d-8d66-2edb4fd69783",
   "metadata": {},
   "outputs": [],
   "source": [
    "#ans:6=\n",
    "i=1\n",
    "while i<=5:\n",
    "    j=1\n",
    "    while j<=i:\n",
    "        print(j,end=\" \")\n",
    "        j=j+1\n",
    "    print(\"\")\n",
    "    i=i+1"
   ]
  },
  {
   "cell_type": "code",
   "execution_count": null,
   "id": "d84b3bb7-9fe3-42a3-9e0c-e4358907057d",
   "metadata": {},
   "outputs": [],
   "source": [
    "#ans:7=\n",
    "i=10\n",
    "while(i>0):\n",
    "    print(i)\n",
    "    i=i-1\n",
    "    "
   ]
  },
  {
   "cell_type": "code",
   "execution_count": null,
   "id": "2d2b3cbd-b5d7-4123-895c-27b4a3c97514",
   "metadata": {},
   "outputs": [],
   "source": []
  }
 ],
 "metadata": {
  "kernelspec": {
   "display_name": "Python 3 (ipykernel)",
   "language": "python",
   "name": "python3"
  },
  "language_info": {
   "codemirror_mode": {
    "name": "ipython",
    "version": 3
   },
   "file_extension": ".py",
   "mimetype": "text/x-python",
   "name": "python",
   "nbconvert_exporter": "python",
   "pygments_lexer": "ipython3",
   "version": "3.10.8"
  }
 },
 "nbformat": 4,
 "nbformat_minor": 5
}
